{
 "cells": [
  {
   "cell_type": "code",
   "execution_count": 14,
   "metadata": {},
   "outputs": [],
   "source": [
    "def int_to_bin(number: int, block_size=8) -> str:\n",
    "    binary = bin(number)[2:] #convierte a binario el 'number' y regresa un 'string' \n",
    "    #'0' * (block_size - len(binary))+binary   #si el tamaño de 'number' es < 32 le agrega \n",
    "    # a 'binary' los '0's faltantes hasta 32\n",
    "    return '0' * (block_size - len(binary)) + binary \n",
    "\n",
    "\n",
    "def char_2_num(letter: str) -> int:\n",
    "    return ord(letter) - ord('a')\n",
    "\n",
    "\n",
    "def num_2_char(number: int) -> str:\n",
    "    return chr(ord('a') + number)\n",
    "\n",
    "\n",
    "def mod(a, b):\n",
    "    return a % b\n",
    "\n",
    "\n",
    "def left_circ_shift(binary: str, shift: int) -> str:\n",
    "    shift = shift % len(binary)\n",
    "    return binary[shift:] + binary[0: shift]"
   ]
  },
  {
   "cell_type": "code",
   "execution_count": 15,
   "metadata": {},
   "outputs": [
    {
     "name": "stdout",
     "output_type": "stream",
     "text": [
      "1000000010000000\n"
     ]
    }
   ],
   "source": [
    "number = 32896 # En binario esto es: '32896'd = '1000000010000000'b\n",
    "binary = int_to_bin(number, block_size=16)\n",
    "print(binary)\n",
    "#print(char_2_num('g'))\n",
    "#print(num_2_char(6))\n",
    "#print(mod(24,11))\n",
    "#print(left_circ_shift('abcde',2))"
   ]
  },
  {
   "cell_type": "code",
   "execution_count": 16,
   "metadata": {},
   "outputs": [],
   "source": [
    "class PBox:\n",
    "    def __init__(self, clave: dict):\n",
    "        self.clave = clave\n",
    "        self.in_degree = len(clave)\n",
    "        self.out_degree = sum(len(value) if isinstance(value, list) else 1 for value in clave.values())\n",
    "\n",
    "    def __repr__(self) -> str:\n",
    "        return 'PBox' + str(self.clave)\n",
    "\n",
    "    def permutate(self, sequence: list) -> str:\n",
    "        result = [0] * self.out_degree\n",
    "        for index, value in enumerate(sequence):\n",
    "            if (index + 1) in self.clave:\n",
    "                indices = self.clave.get(index + 1, [])\n",
    "                indices = indices if isinstance(indices, list) else [indices]\n",
    "                for i in indices:\n",
    "                    result[i - 1] = value\n",
    "        return ''.join(map(str, result))\n",
    "\n",
    "    def is_invertible(self) -> bool:\n",
    "        return self.in_degree == self.out_degree\n",
    "\n",
    "    def invert(self):\n",
    "        if self.is_invertible():\n",
    "            result = {}\n",
    "            for index, mapping in self.clave.items():\n",
    "                result[mapping] = index\n",
    "            return PBox(result)\n",
    "\n",
    "    @staticmethod\n",
    "    def identity(block_size=64):\n",
    "        return PBox({index: index for index in range(1, block_size + 1)})\n",
    "\n",
    "    @staticmethod\n",
    "    def from_list(permutation: list):\n",
    "        mapping = {}\n",
    "        for index, value in enumerate(permutation):\n",
    "            indices = mapping.get(value, [])\n",
    "            indices.append(index + 1)\n",
    "            mapping[value] = indices\n",
    "        return PBox(mapping)\n",
    "\n",
    "    @staticmethod\n",
    "    def des_initial_permutation():\n",
    "        return PBox.from_list(\n",
    "            [58, 50, 42, 34, 26, 18, 10, 2,\n",
    "             60, 52, 44, 36, 28, 20, 12, 4,\n",
    "             62, 54, 46, 38, 30, 22, 14, 6,\n",
    "             64, 56, 48, 40, 32, 24, 16, 8,\n",
    "             57, 49, 41, 33, 25, 17,  9, 1,\n",
    "             59, 51, 43, 35, 27, 19, 11, 3,\n",
    "             61, 53, 45, 37, 29, 21, 13, 5,\n",
    "             63, 55, 47, 39, 31, 23, 15, 7]\n",
    "        )\n",
    "\n",
    "        \"\"\"     \n",
    "        Implemente en este espacio un método estático \n",
    "        para la permutación final. Nombrela como \n",
    "        'des_final_permutation()'\n",
    "        Cf. Fig. 3.7 y 3.9 del libro\n",
    "        \"\"\"\n",
    "\n",
    "    @staticmethod\n",
    "    def des_final_permutation():\n",
    "        return PBox.from_list(\n",
    "            [40, 8, 48, 16, 56, 24, 64, 32,\n",
    "             39, 7, 47, 15, 55, 23, 63, 31,\n",
    "             38, 6, 46, 14, 54, 22, 62, 30,\n",
    "             37, 5, 45, 13, 53, 21, 61, 29,\n",
    "             36, 4, 44, 12, 52, 20, 60, 28,\n",
    "             35, 3, 43, 11, 51, 19, 59, 27,\n",
    "             34, 2, 42, 10, 50, 18, 58, 26,\n",
    "             33, 1, 41, 9, 49, 17, 57, 25]\n",
    "        )\n",
    "    @staticmethod\n",
    "    def des_single_round_expansion():\n",
    "        \"\"\"Esta es la permutación realizada en la mitad derecha del bloque para .. \n",
    "        convertir 32 bits --> 48 bits en el DES Mixer\"\"\"\n",
    "        return PBox.from_list(\n",
    "            [32,  1,  2,  3,  4,  5,\n",
    "              4,  5,  6,  7,  8,  9,\n",
    "              8,  9, 10, 11, 12, 13,\n",
    "             12, 13, 14, 15, 16, 17,\n",
    "             16, 17, 18, 19, 20, 21,\n",
    "             20, 21, 22, 23, 24, 25,\n",
    "             24, 25, 26, 27, 28, 29,\n",
    "             28, 29, 30, 31, 32,  1 ]\n",
    "        )\n",
    "\n",
    "    \"\"\"\n",
    "    Implemente um metodo estatico que realice la \n",
    "    permutacion al final de la sustitución de cada ronda \n",
    "    Nombrela des_single_round_final()\n",
    "    Cf. Tabla 3.10.\n",
    "    \"\"\"\n",
    "\n",
    "    @staticmethod\n",
    "    def des_single_round_final():\n",
    "        return PBox.from_list(\n",
    "            [16,  7,  20,  21,  29,  12, 28,  17,\n",
    "             1,  15,  23,  26,  5,  18, 31,  10,\n",
    "             2,  8,  24,  14,  32,  27, 3,  9,\n",
    "             19,  13,  30,  6,  22,  11, 4,  25]\n",
    "        )\n",
    "   "
   ]
  },
  {
   "cell_type": "code",
   "execution_count": 17,
   "metadata": {},
   "outputs": [
    {
     "name": "stdout",
     "output_type": "stream",
     "text": [
      "Permutación Inicial: 0000000000000000000000000000000011000000000000000000000000000000\n",
      "Long. de Salida: 64\n"
     ]
    }
   ],
   "source": [
    "# Podemos crear un PBox de permutacion que implemente \n",
    "# la permutación de la Fig. 3.6\n",
    "#  \n",
    "initial_permutation = PBox.des_initial_permutation()\n",
    "permutationIni = initial_permutation.permutate(int_to_bin(32896, block_size=64))\n",
    "print('Permutación Inicial:', permutationIni)\n",
    "print('Long. de Salida:', len(permutationIni))"
   ]
  },
  {
   "cell_type": "code",
   "execution_count": 18,
   "metadata": {},
   "outputs": [
    {
     "name": "stdout",
     "output_type": "stream",
     "text": [
      "Permutación: 001001010101010010101110101011111111111011110100\n",
      "Long. de Salida: 48\n"
     ]
    }
   ],
   "source": [
    "# Podemos crear un PBox de expansión que se expandirá de 32 Bits --> 48 Bits\n",
    "# Ej. '1,251,434,458'd =  '1001010100101110101111111011010'b 32 bits\n",
    "# lo expandimos a 48 bits con Fig. 3.11 - Tabla 3.1\n",
    "# compruebe que el MSB y el LSB asi como algunos bits intermedios \n",
    "# están bien colocados\n",
    "expansion_p_box = PBox.des_single_round_expansion()\n",
    "permutation = expansion_p_box.permutate(int_to_bin(1251434458, block_size=32))\n",
    "print('Permutación:', permutation)\n",
    "print('Long. de Salida:', len(permutation))"
   ]
  },
  {
   "cell_type": "code",
   "execution_count": 19,
   "metadata": {},
   "outputs": [
    {
     "name": "stdout",
     "output_type": "stream",
     "text": [
      "dauay\n"
     ]
    }
   ],
   "source": [
    "# Podemos crear una P-Box directa\n",
    "# Explique que esta sucediendo con esta caja de permutacion\n",
    "straight_p_box = PBox.from_list([4, 1, 3, 5, 2])\n",
    "p = straight_p_box.permutate('ayuda')\n",
    "print(p)"
   ]
  },
  {
   "cell_type": "code",
   "execution_count": 20,
   "metadata": {},
   "outputs": [],
   "source": [
    "class SBox:\n",
    "    def __init__(self, table: dict, block_size=4, func=lambda binary: (binary[0] + binary[5], binary[1:5])):\n",
    "        self.table = table\n",
    "        self.block_size = block_size\n",
    "        self.func = func\n",
    "\n",
    "    def __call__(self, binary: str) -> str:\n",
    "        a, b = self.func(binary)\n",
    "        a, b = int(a, base=2), int(b, base=2)\n",
    "        if (a, b) in self.table:\n",
    "            return int_to_bin(self.table[(a, b)], block_size=self.block_size)\n",
    "        else:\n",
    "            return binary\n",
    "\n",
    "    @staticmethod\n",
    "    def des_single_round_substitutions():\n",
    "        return [SBox.forDESSubstitution(block) for block in range(1, 9)]\n",
    "\n",
    "    @staticmethod\n",
    "    def identity():\n",
    "        return SBox(func=lambda binary: ('0', '0'), table={})\n",
    "\n",
    "    @staticmethod\n",
    "    def forDESSubstitution(block):\n",
    "        if block == 1: return SBox.des_s_box1()\n",
    "        if block == 2: return SBox.des_s_box2()\n",
    "        if block == 3: return SBox.des_s_box3()\n",
    "        if block == 4: return SBox.des_s_box4()\n",
    "        if block == 5: return SBox.des_s_box5()\n",
    "        if block == 6: return SBox.des_s_box6()\n",
    "        if block == 7: return SBox.des_s_box7()\n",
    "        if block == 8: return SBox.des_s_box8()\n",
    "\n",
    "    @staticmethod\n",
    "    def des_confusion(binary: str) -> tuple:\n",
    "        \"\"\"\"Toma una cadena binaria de 6 bits como entrada y ..\n",
    "        devuelve una cadena binaria de 4 bits como salida.\"\"\"\n",
    "        return binary[0] + binary[5], binary[1: 5]\n",
    "\n",
    "    @staticmethod\n",
    "    def from_list(sequence: list):\n",
    "        mapping = {}\n",
    "        for row in range(len(sequence)):\n",
    "            for column in range(len(sequence[0])):\n",
    "                mapping[(row, column)] = sequence[row][column]\n",
    "        return SBox(table=mapping)\n",
    "\n",
    "    @staticmethod\n",
    "    def des_s_box1():\n",
    "        return SBox.from_list(\n",
    "        [[14,  4, 13, 1,  2, 15, 11,  8,  3, 10,  6, 12,  5,  9, 0,  7],\n",
    "         [ 0, 15,  7, 4, 14,  2, 13,  1, 10,  6, 12, 11,  9,  5, 3,  8],\n",
    "         [ 4,  1, 14, 8, 13,  6,  2, 11, 15, 12,  9,  7,  3, 10, 5,  0],\n",
    "         [15, 12,  8, 2,  4,  9,  1,  7,  5, 11,  3, 14, 10,  0, 6, 13]]\n",
    "        )\n",
    "\n",
    "    \"\"\"\n",
    "    Implemente aquí un metodo estatico que codifique \n",
    "    2. la caja de substitucion 2 y nombrela 'des_s_box2()'.\n",
    "    Cf. Tabla 3.3  \n",
    "    3. la caja de substitucion 3 y nombrela 'des_s_box3()'.\n",
    "    Cf. Tabla 3.4\n",
    "    4. la caja de substitucion 4 y nombrela 'des_s_box4()'.\n",
    "    Cf. Tabla 3.5\n",
    "    5. la caja de substitucion 5 y nombrela 'des_s_box5()'.\n",
    "    Cf. Tabla 3.6\n",
    "    6. la caja de substitucion 6 y nombrela 'des_s_box6()'.\n",
    "    Cf. Tabla 3.7\n",
    "    7. la caja de substitucion 7 y nombrela 'des_s_box7()'.\n",
    "    Cf. Tabla 3.8\n",
    "    8. la caja de substitucion 8 y nombrela 'des_s_box8()'.\n",
    "    Cf. Tabla 3.9\n",
    "    \"\"\"\n",
    "    @staticmethod\n",
    "    def des_s_box2():\n",
    "        return SBox.from_list(\n",
    "        [[15,1,8,14,6,11,3,4,9,7,2,13,12,00,5,10],\n",
    "        [3,13,4,7,15,2,8,14,12,00,1,10,6,9,11,5],\n",
    "        [00,14,7,11,10,4,13,1,5,8,12,6,9,3,2,15],\n",
    "        [13,8,10,1,3,15,4,2,11,6,7,12,00,5,14,9]]\n",
    "        )\n",
    "    \n",
    "    @staticmethod\n",
    "    def des_s_box3():\n",
    "        return SBox.from_list([\n",
    "            [10, 0, 9, 14, 6, 3, 15, 5, 1, 13, 12, 7, 11, 4, 2, 8],\n",
    "            [13, 7, 0, 9, 3, 4, 6, 10, 2, 8, 5, 14, 12, 11, 15, 1],\n",
    "            [13, 6, 4, 9, 8, 15, 3, 0, 11, 1, 2, 12, 5, 10, 14, 7],\n",
    "            [1, 10, 13, 0, 0, 6, 9, 8, 7, 4, 15, 14, 3, 11, 5, 12]\n",
    "        ])\n",
    "\n",
    "    @staticmethod\n",
    "    def des_s_box4():\n",
    "        return SBox.from_list([\n",
    "            [7, 13, 14, 3, 0, 6, 9, 10, 1, 2, 8, 5, 11, 12, 4, 15],\n",
    "            [13, 8, 10, 1, 3, 15, 12, 9, 7, 14, 2, 11, 5, 0, 4, 6],\n",
    "            [1, 15, 13, 8, 10, 3, 7, 9, 14, 2, 11, 5, 0, 12, 4, 6],\n",
    "            [10, 9, 11, 0, 8, 7, 15, 1, 3, 14, 5, 13, 12, 2, 4, 6]\n",
    "        ])\n",
    "    \n",
    "    @staticmethod\n",
    "    def des_s_box5():\n",
    "        return SBox.from_list([\n",
    "            [9, 14, 15, 5, 0, 3, 8, 12, 13, 1, 7, 2, 10, 6, 4, 11],\n",
    "            [8, 6, 3, 14, 13, 4, 7, 11, 10, 2, 9, 15, 12, 0, 5, 1],\n",
    "            [12, 3, 13, 8, 14, 5, 9, 7, 15, 1, 10, 11, 0, 4, 2, 6],\n",
    "            [15, 5, 10, 3, 12, 9, 0, 6, 1, 8, 14, 7, 13, 4, 2, 11]\n",
    "        ])\n",
    "    \n",
    "    @staticmethod\n",
    "    def des_s_box6():\n",
    "        return SBox.from_list([\n",
    "            [9, 0, 5, 12, 10, 15, 7, 13, 11, 8, 3, 14, 1, 6, 4, 2],\n",
    "            [13, 8, 11, 0, 7, 9, 6, 10, 1, 14, 5, 2, 15, 4, 12, 3],\n",
    "            [10, 5, 8, 6, 11, 9, 0, 3, 1, 15, 4, 13, 12, 7, 14, 2],\n",
    "            [9, 7, 10, 5, 14, 2, 1, 13, 11, 3, 0, 8, 15, 4, 6, 12]\n",
    "        ])\n",
    "    \n",
    "    @staticmethod\n",
    "    def des_s_box7():\n",
    "        return SBox.from_list([\n",
    "            [9, 12, 15, 10, 8, 7, 2, 3, 1, 14, 5, 11, 13, 0, 6, 4],\n",
    "            [6, 2, 13, 14, 12, 8, 10, 1, 9, 7, 5, 0, 11, 4, 15, 3],\n",
    "            [10, 8, 7, 9, 13, 12, 15, 14, 5, 11, 3, 0, 1, 6, 4, 2],\n",
    "            [15, 6, 12, 3, 10, 1, 4, 7, 8, 14, 9, 13, 11, 5, 2, 0]\n",
    "        ])\n",
    "    \n",
    "    @staticmethod\n",
    "    def des_s_box8():\n",
    "        return SBox.from_list([\n",
    "            [7, 10, 5, 13, 0, 15, 2, 1, 12, 6, 9, 3, 8, 11, 4, 14],\n",
    "            [15, 10, 6, 0, 1, 14, 13, 9, 11, 8, 12, 5, 7, 3, 2, 4],\n",
    "            [1, 11, 5, 13, 8, 6, 12, 9, 10, 0, 15, 2, 14, 3, 7, 4],\n",
    "            [9, 1, 13, 8, 7, 10, 3, 4, 2, 0, 5, 14, 12, 15, 6, 11]\n",
    "        ])\n",
    "    \n",
    "\n",
    "    \n",
    "\n"
   ]
  },
  {
   "cell_type": "code",
   "execution_count": 21,
   "metadata": {},
   "outputs": [
    {
     "name": "stdout",
     "output_type": "stream",
     "text": [
      "101\n",
      "110\n",
      "1000\n",
      "111\n"
     ]
    }
   ],
   "source": [
    "# Creamos una SBox personalizada con ntra. propia función\n",
    "# Analice y explique como está funcionando de forma similar\n",
    "# esta pequeña caja de substitucion con las Sboxes\n",
    "# de las Tablas 3.2-3.9  \n",
    "s_box = SBox(block_size=2, table={\n",
    "    (0, 0): 5,\n",
    "    (0, 1): 6,\n",
    "    (1, 0): 8,\n",
    "    (1, 1): 7\n",
    "}, func=lambda x: (x[0], x[1]))\n",
    "\n",
    "print(s_box('00'))\n",
    "print(s_box('01'))\n",
    "print(s_box('10'))\n",
    "print(s_box('11'))"
   ]
  },
  {
   "cell_type": "code",
   "execution_count": 22,
   "metadata": {},
   "outputs": [
    {
     "name": "stdout",
     "output_type": "stream",
     "text": [
      "1101\n"
     ]
    }
   ],
   "source": [
    "# Podemos usar el SBox de primera sustitución incorporado para comprimir \n",
    "# cadenas binarias de 6 bits -> 4 bits\n",
    "\n",
    "s_box2 = SBox.des_s_box1()\n",
    "binary = '000100'  # De la Tabla 3.2 vea que la codificacion debe de dar 13d = 1101b\n",
    "print(s_box2(binary))"
   ]
  },
  {
   "cell_type": "code",
   "execution_count": 23,
   "metadata": {},
   "outputs": [],
   "source": [
    "def int_to_bin(number: int, block_size=8) -> str:\n",
    "    binary = bin(number)[2:] #convierte a binario el 'number' y regresa un 'string' \n",
    "    #'0' * (block_size - len(binary))+binary   #si el tamaño de 'number' es < 32 le agrega \n",
    "    # a 'binary' los '0's faltantes hasta 32\n",
    "    return '0' * (block_size - len(binary)) + binary \n"
   ]
  },
  {
   "cell_type": "markdown",
   "metadata": {},
   "source": [
    "##  Intercambiador\n",
    "Ahora definimos un intercambiador que aceptará una cadena binaria. \n",
    "Divide la cadena en 2 partes y devuelve una cadena binaria intercambiada."
   ]
  },
  {
   "cell_type": "code",
   "execution_count": 24,
   "metadata": {},
   "outputs": [],
   "source": [
    "class Swapper:\n",
    "    def __init__(self, block_size=64):\n",
    "        self.block_size = block_size\n",
    "\n",
    "        def encrypt(self, tp):\n",
    "            der=tp[self.block_size//2:]\n",
    "            izq=tp[:self.block_size//2]\n",
    "            return der+izq\n",
    "        \n",
    "        def decrypt(self, tp):\n",
    "            der=tp[self.block_size//2:]\n",
    "            izq=tp[:self.block_size//2]\n",
    "            return der+izq\n",
    "\n",
    "\n",
    " ## AQUI AGREGARÁ SU CODIGO. ANALICE LA ULTIMA PARTE DE ESTE ARCHIVO"
   ]
  },
  {
   "cell_type": "markdown",
   "metadata": {},
   "source": [
    "## Null Swapper Intercambiador nulo\n",
    "Null Swapper no es un objeto criptográfico sino más bien un objeto que hemos creado para tener la misma API que el `Swapper` para que podamos conectar el `NoneSwapper` en lugar de la clase `Swapper` cuando deseamos crear un cifrado que no intercambia bloques de bits.\n",
    "\n",
    "> No sirve para nada en el algoritmo. Simplemente nos proporciona un mecanismo para crear una Ronda Fiestel sin intercambio que veremos más adelante."
   ]
  },
  {
   "cell_type": "code",
   "execution_count": 25,
   "metadata": {},
   "outputs": [],
   "source": [
    "class NoneSwapper:\n",
    "    def encrypt(self, binary: str) -> str:\n",
    "        return binary\n",
    "\n",
    "    def decrypt(self, binary: str) -> str:\n",
    "        return binary"
   ]
  },
  {
   "cell_type": "code",
   "execution_count": 26,
   "metadata": {},
   "outputs": [
    {
     "data": {
      "text/plain": [
       "'1001'"
      ]
     },
     "execution_count": 26,
     "metadata": {},
     "output_type": "execute_result"
    }
   ],
   "source": [
    "# No cambia el bloque binario durante el cifrado o descifrado.\n",
    "swapper = NoneSwapper()\n",
    "swapper.encrypt('1001')"
   ]
  },
  {
   "cell_type": "code",
   "execution_count": 27,
   "metadata": {},
   "outputs": [
    {
     "data": {
      "text/plain": [
       "'1001'"
      ]
     },
     "execution_count": 27,
     "metadata": {},
     "output_type": "execute_result"
    }
   ],
   "source": [
    "swapper.decrypt('1001')"
   ]
  },
  {
   "cell_type": "markdown",
   "metadata": {},
   "source": [
    "## Mezclador (Mixer)\n",
    "\n",
    "El mezclador toma un bloque binario de longitud fija y lo divide  en 2 partes. \n",
    "Luego, la parte derecha se combina con la clave y se le aplica una función \n",
    "no reversible en la parte derecha y la clave. Luego se realiza una XOR (^) \n",
    "al resultado con la parte izquierda.\n",
    "\n",
    "Los resultados finales son\n",
    "```text\n",
    "l = l ^ f (r, K)\n",
    "r = r\n",
    "```"
   ]
  },
  {
   "cell_type": "code",
   "execution_count": 28,
   "metadata": {},
   "outputs": [],
   "source": [
    "class Mixer:\n",
    "    def __init__(self, key: int, func=lambda a, b: a % b, block_size=64,\n",
    "                 initial_permutation=None, final_permutation=None,\n",
    "                 substitutions: list = None, substitution_block_size=6):\n",
    "        self.func = func\n",
    "        self.block_size = block_size\n",
    "        self.initial_permutation = PBox.identity(block_size // 2) if initial_permutation is None else initial_permutation\n",
    "        self.final_permutation = PBox.identity(block_size // 2) if final_permutation is None else final_permutation\n",
    "        self.substitutions = SBox.des_single_round_substitutions() if substitutions is None else substitutions\n",
    "        self.substitution_block_size = substitution_block_size\n",
    "        self.key = key\n",
    "\n",
    "    def encrypt(self, binary: str) -> str:\n",
    "        ## COLOQUE AQUI TAMBIEN EL CODIGO QUE AGREGO AL METODO SWAPPER\n",
    "        r = binary[:self.block_size // 2]\n",
    "        l = binary[self.block_size // 2:]\n",
    "\n",
    "        #  PBox de expansión\n",
    "        r1: str = self.initial_permutation.permutate(r)\n",
    "\n",
    "        # aplicando la función\n",
    "        r2: str = int_to_bin(self.func(int(r1, base=2), self.key), block_size=self.initial_permutation.out_degree)\n",
    "\n",
    "        # aplicando las matrices de substitución\n",
    "        r3: str = ''\n",
    "        for i in range(len(self.substitutions)):\n",
    "            block: str = r2[i * self.substitution_block_size: (i + 1) * self.substitution_block_size]\n",
    "            r3 += self.substitutions[i](block)\n",
    "\n",
    "        # aplicando la permutación final\n",
    "        r3: str = self.final_permutation.permutate(r3)\n",
    "\n",
    "        # aplicando la xor\n",
    "        l = int_to_bin(int(l, base=2) ^ int(r3, base=2), block_size=self.block_size // 2)\n",
    "        return l + r\n",
    "\n",
    "    def decrypt(self, binary:str) -> str:\n",
    "        return self.encrypt(binary)\n",
    "\n",
    "    @staticmethod\n",
    "    def des_mixer(key: int):\n",
    "        return Mixer(\n",
    "          key=key,\n",
    "          initial_permutation=PBox.des_single_round_expansion(),\n",
    "          final_permutation=PBox.des_single_round_final(),\n",
    "          func=lambda a, b: a % b\n",
    "        )"
   ]
  },
  {
   "cell_type": "code",
   "execution_count": 29,
   "metadata": {},
   "outputs": [
    {
     "name": "stdout",
     "output_type": "stream",
     "text": [
      "Texto simple: 0000000000000000000000000000000000000000000000000010011010010100\n"
     ]
    }
   ],
   "source": [
    "# Creamos un mezclador DES específico. Eso significa que block_size será 64 y que \n",
    "# se utilizarán PBox y SBox específicos de DES.\n",
    "# También usamos la función mod cuando realizamos una operación no invertible \n",
    "# sobre r y Key, por lo tanto f = r % Key\n",
    "mixer = Mixer.des_mixer(key=3)\n",
    "number = 9876\n",
    "binary = int_to_bin(number, block_size=64)\n",
    "print('Texto simple:', binary)"
   ]
  },
  {
   "cell_type": "code",
   "execution_count": 30,
   "metadata": {},
   "outputs": [
    {
     "name": "stdout",
     "output_type": "stream",
     "text": [
      "Texto cifrado: 1111001111001010110111011010000100000000000000000000000000000000\n"
     ]
    }
   ],
   "source": [
    "ciphertext = mixer.encrypt(binary)\n",
    "print('Texto cifrado:', ciphertext)"
   ]
  },
  {
   "cell_type": "code",
   "execution_count": 31,
   "metadata": {},
   "outputs": [
    {
     "name": "stdout",
     "output_type": "stream",
     "text": [
      "Descifrado: 1111101111001010111100110001010111110011110010101101110110100001\n"
     ]
    }
   ],
   "source": [
    "# Descifrado usando el Mezclador (Mixer)\n",
    "decrypted = mixer.decrypt(ciphertext)\n",
    "print('Descifrado:', decrypted)"
   ]
  },
  {
   "cell_type": "code",
   "execution_count": 32,
   "metadata": {},
   "outputs": [
    {
     "name": "stdout",
     "output_type": "stream",
     "text": [
      "18143581324425485729\n"
     ]
    }
   ],
   "source": [
    "# imprime la salida printing the integer based output\n",
    "print(int(decrypted, base=2))"
   ]
  },
  {
   "cell_type": "code",
   "execution_count": 33,
   "metadata": {},
   "outputs": [
    {
     "name": "stdout",
     "output_type": "stream",
     "text": [
      "0000000000000000000000000000000000000000\n",
      "000000000010011010010100\n"
     ]
    }
   ],
   "source": [
    "# Analice este codigo para que pueda implementar dentro de la clase Swapper \n",
    "# el método que \n",
    "# 1.- cifra (llamelo encrypt) que recibe 64 bits ('binary'), los divide a la mitad\n",
    "#    e intercambia y los devuelve en 'l' y 'r' (left y right resp.) mediante 'str's\n",
    "#\n",
    "# 2.- descifra (llamelo decrypt) que recibe 64 bits ('binary'), los divide a la mitad\n",
    "#    e intercambia y los devuelve en 'l' y 'r' (left y right resp.) mediante 'str's\n",
    "\n",
    "block_size = 80\n",
    "bin1 = binary[0: block_size // 2]\n",
    "bin2 = binary[block_size // 2:]\n",
    "print(bin1)\n",
    "print(bin2)"
   ]
  }
 ],
 "metadata": {
  "kernelspec": {
   "display_name": "Python 3",
   "language": "python",
   "name": "python3"
  },
  "language_info": {
   "codemirror_mode": {
    "name": "ipython",
    "version": 3
   },
   "file_extension": ".py",
   "mimetype": "text/x-python",
   "name": "python",
   "nbconvert_exporter": "python",
   "pygments_lexer": "ipython3",
   "version": "3.12.3"
  }
 },
 "nbformat": 4,
 "nbformat_minor": 2
}
